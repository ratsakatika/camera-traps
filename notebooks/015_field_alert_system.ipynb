{
 "cells": [
  {
   "cell_type": "code",
   "execution_count": 5,
   "metadata": {},
   "outputs": [],
   "source": [
    "import yaml\n",
    "import time\n",
    "from datetime import datetime\n",
    "from megadetector.detection import run_detector\n",
    "import pandas as pd\n",
    "\n",
    "import sys\n",
    "sys.path.append('../scripts')  # Adjust the path as needed to point to the directory containing utils.py\n",
    "\n",
    "from alert_utils import detector, classifier, set_device, check_emails, extract_and_update_camera_info, update_camera_data_dataframe, batch_classification"
   ]
  },
  {
   "cell_type": "code",
   "execution_count": 6,
   "metadata": {},
   "outputs": [
    {
     "name": "stderr",
     "output_type": "stream",
     "text": [
      "Fusing layers... \n",
      "Fusing layers... \n",
      "Model summary: 733 layers, 140054656 parameters, 0 gradients, 208.8 GFLOPs\n",
      "Model summary: 733 layers, 140054656 parameters, 0 gradients, 208.8 GFLOPs\n"
     ]
    },
    {
     "name": "stdout",
     "output_type": "stream",
     "text": [
      "Loaded model in 0.42 seconds\n",
      "Loading classifier...\n",
      "Loaded classifier in 3.81 seconds\n"
     ]
    }
   ],
   "source": [
    "# Load settings from configuration file\n",
    "with open('../config.yaml') as file:\n",
    "    config = yaml.safe_load(file)\n",
    "\n",
    "IMAP_HOST = config['imap_config']['host']\n",
    "EMAIL_USER = config['imap_config']['user']\n",
    "EMAIL_PASS = config['imap_config']['password']\n",
    "TELEGRAM_BOT_TOKEN = config['telegram_config']['bot_token']\n",
    "TELEGRAM_CHAT_ID = '-1002249589791' # replace with config after tests\n",
    "\n",
    "# Detection and Classification Model Settings\n",
    "DETECTOR_MODEL_PATH = '../models/md_v5a.0.0.pt'\n",
    "DETECTOR_CLASSES = [\"animal\", \"human\", \"vehicle\"]\n",
    "DETECTION_THRESHOLD = 0.10\n",
    "\n",
    "BACKBONE = 'vit_large_patch14_dinov2'\n",
    "CLASSIFIER_MODEL_PATH = '../models/deepfaune-vit_large_patch14_dinov2.lvd142m.pt'\n",
    "CLASSIFIER_CLASSES = [\"badger\", \"ibex\", \"red deer\", \"chamois\", \"cat\", \"goat\", \"roe deer\", \"dog\", \"squirrel\", \"equid\", \"genet\", \"hedgehog\", \"lagomorph\", \"wolf\", \"lynx\", \"marmot\", \"micromammal\", \"mouflon\", \"sheep\", \"mustelid\", \"bird\", \"bear\", \"nutria\", \"fox\", \"wild boar\", \"cow\"]\n",
    "CLASSIFICATION_THRESHOLD = 0.20\n",
    "\n",
    "species_of_interest = {\"wild boar\", \"bear\", \"wolf\", \"roe deer\", \"red deer\"}\n",
    "CAPTURE_DATABASE_PATH = '../data/capture_database.csv'\n",
    "CAMERA_LOCATIONS_PATH = '../data/camera_locations.csv'\n",
    "\n",
    "\n",
    "# Initialise the Detection and Classifier Models\n",
    "device = set_device()\n",
    "detector_model = run_detector.load_detector(DETECTOR_MODEL_PATH)\n",
    "print(\"Loading classifier...\")\n",
    "start_time = time.time()\n",
    "classifier_model = classifier(CLASSIFIER_MODEL_PATH, BACKBONE, CLASSIFIER_CLASSES, device)\n",
    "end_time = time.time()\n",
    "print(f\"Loaded classifier in {(end_time - start_time):.2f} seconds\")"
   ]
  },
  {
   "cell_type": "code",
   "execution_count": 7,
   "metadata": {},
   "outputs": [
    {
     "name": "stdout",
     "output_type": "stream",
     "text": [
      "Monitoring fcccameratraps@gmail.com for new messages...\n",
      "\n",
      "Email Received.\n",
      "Images: 1, Camera ID: CC044C, Camera Make: UOVision\n",
      "Date: 2024-05-29, Time: 22:52:32, Temperature: 13\n",
      "Battery: 100%, SD Memory: 99%\n",
      "Location: Piscul Lat, GPS: X: 25.01059634, Y: 45.326467, Z: 861m, Map URL: https://maps.app.goo.gl/3g6QH2rn6Qw7Aema6\n",
      "Image 1: Animal Count = 1, Human Count = 0, Vehicle Count = 0\n",
      "Image 1, Detection 1 (0.728 confidence), Species: badger (58.43% confidence)\n"
     ]
    },
    {
     "data": {
      "image/jpeg": "[encoded data removed]",
      "image/png": "[encoded data removed]",
      "text/plain": [
       "<PIL.Image.Image image mode=RGB size=31x42>"
      ]
     },
     "metadata": {},
     "output_type": "display_data"
    },
    {
     "name": "stdout",
     "output_type": "stream",
     "text": [
      "\n",
      "Email Received.\n",
      "Images: 1, Camera ID: CC044C, Camera Make: UOVision\n",
      "Date: 2024-05-31, Time: 23:12:54, Temperature: 17\n",
      "Battery: 100%, SD Memory: 98%\n",
      "Location: Piscul Lat, GPS: X: 25.01059634, Y: 45.326467, Z: 861m, Map URL: https://maps.app.goo.gl/3g6QH2rn6Qw7Aema6\n",
      "Image 1: Animal Count = 1, Human Count = 0, Vehicle Count = 0\n",
      "Image 1, Detection 1 (0.719 confidence), Species: badger (99.83% confidence)\n"
     ]
    },
    {
     "data": {
      "image/jpeg": "[encoded data removed]",
      "image/png": "[encoded data removed]",
      "text/plain": [
       "<PIL.Image.Image image mode=RGB size=149x55>"
      ]
     },
     "metadata": {},
     "output_type": "display_data"
    },
    {
     "name": "stdout",
     "output_type": "stream",
     "text": [
      "\n",
      "Email Received.\n",
      "Images: 0, Camera ID: WILDBOAR02, Camera Make: Wilsus\n",
      "Date: 2024-05-31, Time: 17:02:09, Temperature: 22\n",
      "Battery: 100%, SD Memory: 99%\n",
      "Location: Piscul Lat, GPS: X: 25.01059634, Y: 45.326467, Z: 862m, Map URL: https://maps.app.goo.gl/3g6QH2rn6Qw7Aema6\n",
      "Interrupted by user\n"
     ]
    }
   ],
   "source": [
    "if __name__ == \"__main__\":\n",
    "    print(f\"Monitoring {EMAIL_USER} for new messages...\")\n",
    "    while True:\n",
    "        try:\n",
    "            images, camera_id, temp_deg_c, img_date, img_time, battery, sd_memory = \\\n",
    "                check_emails(IMAP_HOST, EMAIL_USER, EMAIL_PASS)\n",
    "            \n",
    "            if camera_id:\n",
    "\n",
    "                camera_make, gps, location, map_url, battery, sd_memory = extract_and_update_camera_info(CAMERA_LOCATIONS_PATH, camera_id, battery, sd_memory)\n",
    "                \n",
    "                df = pd.read_csv(CAPTURE_DATABASE_PATH)\n",
    "                df = update_camera_data_dataframe(df, len(images), camera_id, camera_make, img_date, img_time, temp_deg_c, battery, sd_memory, location, gps, map_url)\n",
    "\n",
    "                if images:\n",
    "                    df = detector(df, detector_model, images, DETECTION_THRESHOLD)\n",
    "                    df = batch_classification(df, images, classifier_model)\n",
    "\n",
    "                    # annotate_images()\n",
    "                    # generate_caption()\n",
    "                    # send_alert()\n",
    "                    # save_images()\n",
    "\n",
    "                    df.to_csv('output.csv', index=False)\n",
    "            else:\n",
    "                time.sleep(1)\n",
    "\n",
    "        except KeyboardInterrupt:\n",
    "            print(\"Interrupted by user\")\n",
    "            break\n",
    "        #except Exception as e:\n",
    "        #    print(f\"An error occurred: {e}\")\n",
    "        #    print(f\"\\nMonitoring {EMAIL_USER} for new messages...\")\n",
    "        #    continue\n"
   ]
  }
 ],
 "metadata": {
  "kernelspec": {
   "display_name": ".venv",
   "language": "python",
   "name": "python3"
  },
  "language_info": {
   "codemirror_mode": {
    "name": "ipython",
    "version": 3
   },
   "file_extension": ".py",
   "mimetype": "text/x-python",
   "name": "python",
   "nbconvert_exporter": "python",
   "pygments_lexer": "ipython3",
   "version": "3.11.6"
  }
 },
 "nbformat": 4,
 "nbformat_minor": 2
}
