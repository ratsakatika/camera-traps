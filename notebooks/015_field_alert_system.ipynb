{
 "cells": [
  {
   "cell_type": "code",
   "execution_count": null,
   "metadata": {},
   "outputs": [],
   "source": [
    "import yaml\n",
    "import time\n",
    "from datetime import datetime\n",
    "from megadetector.detection import run_detector\n",
    "import pandas as pd\n",
    "\n",
    "import sys\n",
    "sys.path.append('../scripts')  # Adjust the path as needed to point to the directory containing utils.py\n",
    "\n",
    "from alert_system_utils import detector, classifier, set_device, check_emails, extract_and_update_camera_info, update_camera_data_dataframe, batch_classification, current_time, generate_alert_caption, check_counts_and_species"
   ]
  },
  {
   "cell_type": "code",
   "execution_count": null,
   "metadata": {},
   "outputs": [],
   "source": [
    "# Load settings from configuration file\n",
    "with open('../config.yaml') as file:\n",
    "    config = yaml.safe_load(file)\n",
    "\n",
    "IMAP_HOST = config['imap_config']['host']\n",
    "EMAIL_USER = config['imap_config']['user']\n",
    "EMAIL_PASS = config['imap_config']['password']\n",
    "TELEGRAM_BOT_TOKEN = config['telegram_config']['bot_token']\n",
    "TELEGRAM_CHAT_ID = '-1002249589791' # replace with config after tests\n",
    "\n",
    "# Detection and Classification Model Settings\n",
    "DETECTOR_MODEL_PATH = '../models/md_v5a.0.0.pt'\n",
    "DETECTOR_CLASSES = [\"animal\", \"human\", \"vehicle\"]\n",
    "DETECTION_THRESHOLD = 0.10\n",
    "\n",
    "BACKBONE = 'vit_large_patch14_dinov2'\n",
    "CLASSIFIER_MODEL_PATH = '../models/deepfaune-vit_large_patch14_dinov2.lvd142m.pt'\n",
    "CLASSIFIER_CLASSES = [\"Badger\", \"Ibex\", \"Red Deer\", \"Chamois\", \"Cat\", \"Goat\", \"Roe Deer\", \"Dog\", \"Squirrel\", \"Equid\", \"Genet\", \"Hedgehog\", \"Lagomorph\", \"Wolf\", \"Lynx\", \"Marmot\", \"Micromammal\", \"Mouflon\", \"Sheep\", \"Mustelid\", \"Bird\", \"Bear\", \"Nutria\", \"Fox\", \"Wild Boar\", \"Cow\"]\n",
    "SPECIES_OF_INTEREST = [\"Wild Boar\", \"Bear\"]\n",
    "CLASSIFICATION_THRESHOLD = 0.20\n",
    "\n",
    "CAPTURE_DATABASE_PATH = '../data/capture_database.csv'\n",
    "CAMERA_LOCATIONS_PATH = '../data/camera_locations.csv'\n",
    "ALERT_LANGUAGE = \"en\" # Enter 'en' for English or 'ro' for Romanian\n",
    "\n",
    "# Initialise the Detection and Classifier Models\n",
    "device = set_device()\n",
    "detector_model = run_detector.load_detector(DETECTOR_MODEL_PATH)\n",
    "print(\"Loading classifier...\")\n",
    "start_time = time.time()\n",
    "classifier_model = classifier(CLASSIFIER_MODEL_PATH, BACKBONE, CLASSIFIER_CLASSES, device)\n",
    "end_time = time.time()\n",
    "print(f\"Loaded classifier in {(end_time - start_time):.2f} seconds\")"
   ]
  },
  {
   "cell_type": "code",
   "execution_count": null,
   "metadata": {},
   "outputs": [],
   "source": [
    "if __name__ == \"__main__\":\n",
    "    print(f\"\\n{current_time()} | Monitoring {EMAIL_USER} for new messages...\")\n",
    "    while True:\n",
    "        try:\n",
    "            images, camera_id, temp_deg_c, img_date, img_time, battery, sd_memory = \\\n",
    "                check_emails(IMAP_HOST, EMAIL_USER, EMAIL_PASS)\n",
    "            \n",
    "            if camera_id:\n",
    "\n",
    "                camera_make, gps, location, map_url, battery, sd_memory = extract_and_update_camera_info(CAMERA_LOCATIONS_PATH, camera_id, battery, sd_memory)\n",
    "                \n",
    "                # TO DO: if camera_id is UOVision, wait 10, check for another, then append or continue.\n",
    "                # check subject to determine if uovision, then only open if it is\n",
    "\n",
    "                df = pd.read_csv(CAPTURE_DATABASE_PATH)\n",
    "                df = update_camera_data_dataframe(df, len(images), camera_id, camera_make, img_date, img_time, temp_deg_c, battery, sd_memory, location, gps, map_url)\n",
    "\n",
    "                if images:\n",
    "\n",
    "                    df = detector(df, detector_model, images, DETECTION_THRESHOLD)\n",
    "                    \n",
    "                    df = batch_classification(df, classifier_model, images, CLASSIFICATION_THRESHOLD) # test classification threshold\n",
    "\n",
    "                    if check_counts_and_species(df, images):\n",
    "\n",
    "                        df, alert_caption, human_warning, priority_alert = generate_alert_caption(df, len(images), SPECIES_OF_INTEREST, EMAIL_USER, ALERT_LANGUAGE)\n",
    "\n",
    "                        # alert_images = annotate_images(df, images)\n",
    "\n",
    "                        # send_alert(alert_caption, alert_images)\n",
    "\n",
    "                        # print(f\"\\n\\n Test Alert Caption: \\n\\n {alert_caption}\")\n",
    "\n",
    "                        # df = save_images(df, images)\n",
    "                \n",
    "                df.to_csv(CAPTURE_DATABASE_PATH, index=False)\n",
    "                print(f\"{current_time()} | Capture Database Updated: {CAPTURE_DATABASE_PATH}\")\n",
    "                #del df\n",
    "                \n",
    "                # delete email\n",
    "\n",
    "            else:\n",
    "                time.sleep(1)\n",
    "\n",
    "        except KeyboardInterrupt:\n",
    "            print(f\"{current_time()} | Interrupted by user\")\n",
    "            break\n",
    "\n",
    "        # except Exception as e:\n",
    "        #    print(f\"An error occurred: {e}\")\n",
    "        #    print(f\"\\nMonitoring {EMAIL_USER} for new messages...\")\n",
    "        #    continue\n"
   ]
  },
  {
   "cell_type": "code",
   "execution_count": null,
   "metadata": {},
   "outputs": [],
   "source": [
    "def annotate_images(df, images):\n",
    "\n",
    "    # Animal - red\n",
    "    # Human - green\n",
    "    # Vehicle - blue\n",
    "\n",
    "    return df, alert_images"
   ]
  },
  {
   "cell_type": "code",
   "execution_count": null,
   "metadata": {},
   "outputs": [],
   "source": [
    "def send_alert(alert_caption, alert_images):\n",
    "\n",
    "    print(f\"{current_time()} | Alert sent\")"
   ]
  },
  {
   "cell_type": "code",
   "execution_count": null,
   "metadata": {},
   "outputs": [],
   "source": [
    "def save_images(df, images):\n",
    "\n",
    "    return df"
   ]
  },
  {
   "cell_type": "code",
   "execution_count": null,
   "metadata": {},
   "outputs": [],
   "source": []
  },
  {
   "cell_type": "code",
   "execution_count": null,
   "metadata": {},
   "outputs": [],
   "source": []
  }
 ],
 "metadata": {
  "kernelspec": {
   "display_name": ".venv",
   "language": "python",
   "name": "python3"
  },
  "language_info": {
   "codemirror_mode": {
    "name": "ipython",
    "version": 3
   },
   "file_extension": ".py",
   "mimetype": "text/x-python",
   "name": "python",
   "nbconvert_exporter": "python",
   "pygments_lexer": "ipython3",
   "version": "3.11.6"
  }
 },
 "nbformat": 4,
 "nbformat_minor": 2
}
