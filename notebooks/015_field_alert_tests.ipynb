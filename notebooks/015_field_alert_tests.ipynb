{
 "cells": [
  {
   "cell_type": "code",
   "execution_count": 1,
   "metadata": {},
   "outputs": [],
   "source": [
    "import yaml\n",
    "import time\n",
    "from datetime import datetime\n",
    "\n",
    "import sys\n",
    "sys.path.append('../scripts')  # Adjust the path as needed to point to the directory containing utils.py\n",
    "\n",
    "from alert_utils import classifier, set_device, check_emails, extract_update_camera_status\n",
    "from megadetector.detection import run_detector\n",
    "from megadetector.visualization import visualization_utils as vis_utils"
   ]
  },
  {
   "cell_type": "code",
   "execution_count": 2,
   "metadata": {},
   "outputs": [
    {
     "name": "stdout",
     "output_type": "stream",
     "text": [
      "Imported YOLOv5 as utils.*\n",
      "Using PyTorch version 2.3.0+cu121\n"
     ]
    },
    {
     "name": "stderr",
     "output_type": "stream",
     "text": [
      "Fusing layers... \n",
      "Fusing layers... \n",
      "Model summary: 733 layers, 140054656 parameters, 0 gradients, 208.8 GFLOPs\n",
      "Model summary: 733 layers, 140054656 parameters, 0 gradients, 208.8 GFLOPs\n"
     ]
    },
    {
     "name": "stdout",
     "output_type": "stream",
     "text": [
      "Sending model to GPU\n",
      "Loaded model in 1.41 seconds\n",
      "Loading classifier...\n",
      "Loaded classifier in 3.27 seconds\n"
     ]
    }
   ],
   "source": [
    "# Load settings from configuration file\n",
    "with open('../config.yaml') as file:\n",
    "    config = yaml.safe_load(file)\n",
    "\n",
    "IMAP_HOST = config['imap_config']['host']\n",
    "EMAIL_USER = config['imap_config']['user']\n",
    "EMAIL_PASS = config['imap_config']['password']\n",
    "TELEGRAM_BOT_TOKEN = config['telegram_config']['bot_token']\n",
    "TELEGRAM_CHAT_ID = '-1002249589791' # replace with config after tests\n",
    "\n",
    "# Detection and Classification Model Settings\n",
    "MODEL_PATH_DETECTOR = '../models/md_v5a.0.0.pt'\n",
    "MODEL_PATH_CLASSIFIER = '../models/deepfaune-vit_large_patch14_dinov2.lvd142m.pt'\n",
    "BACKBONE = 'vit_large_patch14_dinov2'\n",
    "ANIMAL_CLASSES = [\"badger\", \"ibex\", \"red deer\", \"chamois\", \"cat\", \"goat\", \"roe deer\", \"dog\", \"squirrel\", \"equid\", \"genet\", \"hedgehog\", \"lagomorph\", \"wolf\", \"lynx\", \"marmot\", \"micromammal\", \"mouflon\", \"sheep\", \"mustelid\", \"bird\", \"bear\", \"nutria\", \"fox\", \"wild boar\", \"cow\"]\n",
    "DETECTOR_CLASSES = [\"animal\", \"human\", \"vehicle\"]\n",
    "species_of_interest = {\"wild boar\", \"bear\", \"wolf\", \"roe deer\", \"red deer\"}\n",
    "DETECTION_THRESHOLD = 0.05\n",
    "CLASSIFICATION_THRESHOLD = 0.05\n",
    "\n",
    "# Load the MegaDetector model\n",
    "device = set_device()\n",
    "detector = run_detector.load_detector(MODEL_PATH_DETECTOR)\n",
    "print(\"Loading classifier...\")\n",
    "start_time = time.time()\n",
    "classifier = classifier(MODEL_PATH_CLASSIFIER, BACKBONE, ANIMAL_CLASSES, device)\n",
    "end_time = time.time()\n",
    "print(f\"Loaded classifier in {(end_time - start_time):.2f} seconds\")"
   ]
  },
  {
   "cell_type": "code",
   "execution_count": 6,
   "metadata": {},
   "outputs": [
    {
     "name": "stdout",
     "output_type": "stream",
     "text": [
      "Monitoring fcccameratraps@gmail.com for new messages...\n",
      "\n",
      "Email Received.\n",
      "Images: 1, Camera ID: CC044C, Camera Make: UOVision\n",
      "Date: 2024-05-31, Time: 17:49:54, Temperature: 20\n",
      "Battery: 100%, SD Memory: 98%\n",
      "Location: Piscul Lat, GPS: X: 25.01059634, Y: 45.326467, Z: 861m, Map URL: https://maps.app.goo.gl/3g6QH2rn6Qw7Aema6\n",
      "\n",
      "Email Received.\n",
      "Images: 1, Camera ID: WILDBOAR02, Camera Make: Wilsus\n",
      "Date: 2024-05-31, Time: 17:02:24, Temperature: None\n",
      "Battery: 50%%, SD Memory: 50%%\n",
      "Location: Piscul Lat, GPS: X: 25.01059634, Y: 45.326467, Z: 862m, Map URL: https://maps.app.goo.gl/3g6QH2rn6Qw7Aema6\n",
      "\n",
      "Email Received.\n",
      "Images: 0, Camera ID: WILDBOAR02, Camera Make: Wilsus\n",
      "Date: 2024-05-31, Time: 17:02:09, Temperature: 22\n",
      "Battery: 100%, SD Memory: 99%\n",
      "Location: Piscul Lat, GPS: X: 25.01059634, Y: 45.326467, Z: 862m, Map URL: https://maps.app.goo.gl/3g6QH2rn6Qw7Aema6\n",
      "Interrupted by user\n"
     ]
    }
   ],
   "source": [
    "if __name__ == \"__main__\":\n",
    "    print(f\"Monitoring {EMAIL_USER} for new messages...\")\n",
    "    while True:\n",
    "        try:\n",
    "            images, camera_id, temp_deg_c, img_date, img_time, battery, sd_memory = \\\n",
    "                check_emails(IMAP_HOST, EMAIL_USER, EMAIL_PASS)\n",
    "            if camera_id:\n",
    "                camera_make, gps, location, map_url, battery, sd_memory = extract_update_camera_status(camera_id, battery, sd_memory)\n",
    "                print(\n",
    "                    f\"\\nEmail Received.\"\n",
    "                    f\"\\nImages: {len(images)}, Camera ID: {camera_id}, Camera Make: {camera_make}\"\n",
    "                    f\"\\nDate: {img_date}, Time: {img_time}, Temperature: {temp_deg_c}\"\n",
    "                    f\"\\nBattery: {battery}%, SD Memory: {sd_memory}%\"\n",
    "                    f\"\\nLocation: {location}, GPS: {gps}, Map URL: {map_url}\"\n",
    "                )\n",
    "                if images:\n",
    "                    time.sleep(1)\n",
    "                    # detect_objects()\n",
    "                    # classify_objects()\n",
    "                    # annotate_images()\n",
    "                    # generate_caption()\n",
    "                    # send_alert()\n",
    "                    # save_images()\n",
    "                    # update_excel()\n",
    "            else:\n",
    "                time.sleep(1)\n",
    "\n",
    "        except KeyboardInterrupt:\n",
    "            print(\"Interrupted by user\")\n",
    "            break\n",
    "        #except Exception as e:\n",
    "        #    print(f\"An error occurred: {e}\")\n",
    "        #    print(f\"\\nMonitoring {EMAIL_USER} for new messages...\")\n",
    "        #    continue\n"
   ]
  },
  {
   "cell_type": "code",
   "execution_count": null,
   "metadata": {},
   "outputs": [],
   "source": []
  }
 ],
 "metadata": {
  "kernelspec": {
   "display_name": ".venv",
   "language": "python",
   "name": "python3"
  },
  "language_info": {
   "codemirror_mode": {
    "name": "ipython",
    "version": 3
   },
   "file_extension": ".py",
   "mimetype": "text/x-python",
   "name": "python",
   "nbconvert_exporter": "python",
   "pygments_lexer": "ipython3",
   "version": "3.11.6"
  }
 },
 "nbformat": 4,
 "nbformat_minor": 2
}
