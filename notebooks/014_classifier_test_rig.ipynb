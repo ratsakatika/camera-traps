{
 "cells": [
  {
   "cell_type": "markdown",
   "metadata": {},
   "source": [
    "## DF vs DF_FineTune\n",
    "\n",
    "- Use validation set to report results\n",
    "- Note these are two different experiments with two different datasets\n",
    "\n",
    "- With megadetector created val/test set, test DF-fine-tuned:\n",
    "    - Dataset where megadetector detected an animal\n",
    "    - Pass through all non-empty. If human/vehicle, set confidence interval for classification higher?\n",
    "    - Precision/recall/F1 for all species, plus total\n",
    "    - 5 epochs, lr1e-5\n",
    "    - 5 epochs, lr1e-5 & 5 epochs, wb loss\n",
    "\n",
    "- Steps\n",
    "    - load val and test set into data loader/transform\n",
    "    - initialise models:\n",
    "        - DeepFaune\n",
    "        - FineTuned\n",
    "    - Get predictions, put in excel table\n",
    "    - Analyse results\n",
    "        - Precision/recall/F1\n",
    "        - by species"
   ]
  },
  {
   "cell_type": "code",
   "execution_count": null,
   "metadata": {
    "vscode": {
     "languageId": "plaintext"
    }
   },
   "outputs": [],
   "source": []
  }
 ],
 "metadata": {
  "language_info": {
   "name": "python"
  }
 },
 "nbformat": 4,
 "nbformat_minor": 2
}
