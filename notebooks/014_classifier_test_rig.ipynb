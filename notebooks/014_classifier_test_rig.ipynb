{
 "cells": [
  {
   "cell_type": "markdown",
   "metadata": {},
   "source": [
    "## DF vs DF_FineTune\n",
    "\n",
    "- Use validation set to report results\n",
    "- Note these are two different experiments with two different datasets\n",
    "\n",
    "- (DONE) Test DF-detector vs. megadetector using DF-classifier\n",
    "    - confidence_threshold = 0\n",
    "    - Use full dataset\n",
    "    - Precision/recall/F1 for animal/human/vehicle/empty (do wild boar deep verification)\n",
    "\n",
    "- With megadetector, test DF-fine-tuned:\n",
    "    - Dataset where megadetector detected an animal\n",
    "    - Precision/recall/F1 for all species, plus total\n",
    "    - 5 epochs, lr1e-5\n",
    "    - 5 epochs, lr1e-5 & 5 epochs, wb loss"
   ]
  },
  {
   "cell_type": "markdown",
   "metadata": {},
   "source": []
  }
 ],
 "metadata": {
  "language_info": {
   "name": "python"
  }
 },
 "nbformat": 4,
 "nbformat_minor": 2
}
