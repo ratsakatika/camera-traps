{
 "cells": [
  {
   "cell_type": "markdown",
   "metadata": {},
   "source": [
    "## Load the meta data into a dataframe"
   ]
  },
  {
   "cell_type": "code",
   "execution_count": null,
   "metadata": {},
   "outputs": [],
   "source": [
    "import pandas as pd\n",
    "\n",
    "df = pd.read_excel('../data/meta_data.xlsx', sheet_name='AllAnimals')\n",
    "\n",
    "df\n"
   ]
  },
  {
   "cell_type": "markdown",
   "metadata": {},
   "source": [
    "## Plot the locations of the camera traps on a map "
   ]
  },
  {
   "cell_type": "code",
   "execution_count": null,
   "metadata": {},
   "outputs": [],
   "source": [
    "import pandas as pd\n",
    "import geopandas as gpd\n",
    "import matplotlib.pyplot as plt\n",
    "import contextily as ctx\n",
    "import numpy as np\n",
    "\n",
    "# Convert 'na' strings to NaN and drop rows with NaN in Longitude or Latitude\n",
    "df['Longitude'] = pd.to_numeric(df['Longitude'], errors='coerce')\n",
    "df['Latitude'] = pd.to_numeric(df['Latitude'], errors='coerce')\n",
    "df_clean = df.dropna(subset=['Longitude', 'Latitude'])\n",
    "\n",
    "# Select unique locations based on Longitude and Latitude\n",
    "unique_locations = df_clean[['Longitude', 'Latitude']].drop_duplicates()\n",
    "\n",
    "# Create a GeoDataFrame, specifying the coordinate reference system (CRS) as WGS84 (epsg:4326)\n",
    "gdf = gpd.GeoDataFrame(unique_locations, geometry=gpd.points_from_xy(unique_locations.Longitude, unique_locations.Latitude))\n",
    "gdf.crs = \"EPSG:4326\"\n",
    "\n",
    "# Convert the GeoDataFrame to Web Mercator projection (epsg:3857) for use with contextily\n",
    "gdf = gdf.to_crs(epsg=3857)\n",
    "\n",
    "# Plotting\n",
    "fig, ax = plt.subplots(figsize=(10, 10))\n",
    "gdf.plot(ax=ax, color='red', markersize=5)\n",
    "ctx.add_basemap(ax, source=ctx.providers.OpenTopoMap)\n",
    "ax.set_axis_off()\n",
    "plt.show()\n"
   ]
  },
  {
   "cell_type": "markdown",
   "metadata": {},
   "source": [
    "## Plot a bar char of the count for each species"
   ]
  },
  {
   "cell_type": "code",
   "execution_count": null,
   "metadata": {},
   "outputs": [],
   "source": [
    "# Count the occurrences of each species\n",
    "species_counts = df['Species'].value_counts()\n",
    "\n",
    "# Plot the counts as a bar chart\n",
    "plt.figure(figsize=(10, 8))  # Adjust the size as needed\n",
    "ax = species_counts.plot(kind='bar')\n",
    "plt.title('Frequency of Each Species')\n",
    "plt.xlabel('Species')\n",
    "plt.ylabel('Frequency')\n",
    "plt.xticks(rotation=45, ha=\"right\")  # Rotate species names for better readability\n",
    "plt.tight_layout()  # Adjust layout to make room for the rotated x-axis labels\n",
    "\n",
    "# Add count labels to the top of the bars\n",
    "for i, v in enumerate(species_counts):\n",
    "    ax.text(i, v, str(v), ha='center', va='bottom')\n",
    "\n",
    "plt.show()\n"
   ]
  },
  {
   "cell_type": "markdown",
   "metadata": {},
   "source": [
    "## Plot the frequency of detections of wild boar on a map"
   ]
  },
  {
   "cell_type": "code",
   "execution_count": null,
   "metadata": {},
   "outputs": [],
   "source": [
    "import pandas as pd\n",
    "import geopandas as gpd\n",
    "import matplotlib.pyplot as plt\n",
    "import contextily as ctx\n",
    "\n",
    "# Filter for \"Wild boar\" species\n",
    "wild_boar_df = df[df['Species'] == 'Wild boar']\n",
    "\n",
    "# Count detections at each unique location\n",
    "location_counts = wild_boar_df.groupby(['Longitude', 'Latitude']).size().reset_index(name='Counts')\n",
    "\n",
    "# Create a GeoDataFrame from the filtered data\n",
    "gdf = gpd.GeoDataFrame(location_counts, geometry=gpd.points_from_xy(location_counts.Longitude, location_counts.Latitude))\n",
    "\n",
    "# Set the coordinate reference system (CRS) to WGS84\n",
    "gdf.crs = 'EPSG:4326'\n",
    "\n",
    "# Convert the GeoDataFrame to Web Mercator projection for use with contextily\n",
    "gdf = gdf.to_crs(epsg=3857)\n",
    "\n",
    "# Plotting\n",
    "fig, ax = plt.subplots(figsize=(10, 10))\n",
    "\n",
    "# Adjust marker size based on the count of detections. The 'Counts' value is scaled to ensure visibility on the map.\n",
    "gdf.plot(ax=ax, markersize=gdf['Counts']*10, color='red', alpha=0.5)\n",
    "\n",
    "# Add a basemap\n",
    "ctx.add_basemap(ax, source=ctx.providers.OpenTopoMap)\n",
    "\n",
    "# Remove axis for a cleaner look\n",
    "ax.set_axis_off()\n",
    "\n",
    "plt.show()"
   ]
  }
 ],
 "metadata": {
  "kernelspec": {
   "display_name": "camera-traps",
   "language": "python",
   "name": "python3"
  },
  "language_info": {
   "codemirror_mode": {
    "name": "ipython",
    "version": 3
   },
   "file_extension": ".py",
   "mimetype": "text/x-python",
   "name": "python",
   "nbconvert_exporter": "python",
   "pygments_lexer": "ipython3",
   "version": "3.12.2"
  }
 },
 "nbformat": 4,
 "nbformat_minor": 2
}
